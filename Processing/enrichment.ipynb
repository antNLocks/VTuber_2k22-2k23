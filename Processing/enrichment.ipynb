{
 "cells": [
  {
   "attachments": {},
   "cell_type": "markdown",
   "metadata": {},
   "source": [
    "# Data enrichment\n",
    "\n",
    "This notebook aims to enrich the data to extract interesting metrics on broadcasters who have broadcast at least once with a Vtuber tag. We focus on the data that emanates from the videos available on each broadcaster's channel.\n",
    "\n",
    "To do this, we first need to query all these videos.\n",
    "\n",
    "And then we have to understand them at least a little bit."
   ]
  },
  {
   "attachments": {},
   "cell_type": "markdown",
   "metadata": {},
   "source": [
    "## For general purpose"
   ]
  },
  {
   "cell_type": "code",
   "execution_count": 1,
   "metadata": {},
   "outputs": [],
   "source": [
    "import requests\n",
    "import json\n",
    "import pandas as pd\n",
    "import os\n",
    "\n",
    " # The .json with the CLIENT_ID and the TOKEN\n",
    "with open('../twitch_credentials.json', mode='r') as f:\n",
    "    twitch_credentials = json.load(f)\n",
    "\n",
    "    # Twitch API variables\n",
    "    CLIENT_ID = twitch_credentials['CLIENT_ID']\n",
    "    TOKEN = twitch_credentials['TOKEN']\n",
    "    \n",
    "headers = {\"Authorization\":\"Bearer \" + TOKEN, \"Client-Id\":CLIENT_ID}"
   ]
  },
  {
   "cell_type": "code",
   "execution_count": 2,
   "metadata": {},
   "outputs": [],
   "source": [
    "oldAPIStreams = pd.read_csv('../Data/aggregated/twitch_streams_vtuber_tagIds.csv')\n",
    "newAPIStreams = pd.read_csv('../Data/aggregated/twitch_streams_vtuber_tagIds_tags.csv')\n",
    "\n",
    "user_ids_streams = pd.concat([oldAPIStreams, newAPIStreams], ignore_index=True).loc[:, ['user_id']].drop_duplicates()"
   ]
  },
  {
   "attachments": {},
   "cell_type": "markdown",
   "metadata": {},
   "source": [
    "## Querying videos"
   ]
  },
  {
   "cell_type": "code",
   "execution_count": 3,
   "metadata": {},
   "outputs": [],
   "source": [
    "from datetime import datetime\n",
    "\n",
    "url = 'https://api.twitch.tv/helix/videos?first=100&user_id='\n",
    "ratelimit = []\n",
    "\n",
    "def get_user_videos(user_df):\n",
    "    user_id = user_df['user_id'].iloc[0]\n",
    "    df_response = None\n",
    "    \n",
    "    try:\n",
    "        response = requests.get(url + str(user_id), headers=headers)\n",
    "        df_response = pd.DataFrame(response.json()[\"data\"])\n",
    "\n",
    "        ratelimit.append(response.headers['Ratelimit-Remaining'])\n",
    "\n",
    "        if 'stream_id' not in df_response.columns and not df_response.empty:\n",
    "            print(f\"stream_id not in columns of user {user_id} - 1\")\n",
    "            return None\n",
    "\n",
    "        # While there are other pages to get\n",
    "        while len(response.json()[\"pagination\"]) > 0 :\n",
    "                response = requests.get(url + str(user_id) + \"&after=\" + response.json()[\"pagination\"][\"cursor\"], headers=headers)\n",
    "                df_response = pd.concat([df_response, pd.DataFrame(response.json()[\"data\"])])\n",
    "\n",
    "                ratelimit.append(response.headers['Ratelimit-Remaining'])\n",
    "\n",
    "                if 'stream_id' not in df_response.columns:\n",
    "                    print(f\"stream_id not in columns of user {user_id} - 2\")\n",
    "                    return None\n",
    "        \n",
    "        return df_response                \n",
    "\n",
    "    except Exception as e:\n",
    "        print(f\"Exception [{e}] with user {user_id}\")\n",
    "        return None"
   ]
  },
  {
   "cell_type": "code",
   "execution_count": 4,
   "metadata": {},
   "outputs": [],
   "source": [
    "all_videos = user_ids_streams.groupby('user_id').apply(get_user_videos).reset_index(drop=True)"
   ]
  },
  {
   "attachments": {},
   "cell_type": "markdown",
   "metadata": {},
   "source": [
    "Just checking the Ratelimit-Remaining to be sure..."
   ]
  },
  {
   "cell_type": "code",
   "execution_count": 5,
   "metadata": {},
   "outputs": [
    {
     "data": {
      "image/png": "[encoded data removed]",
      "text/plain": [
       "<Figure size 640x480 with 1 Axes>"
      ]
     },
     "metadata": {},
     "output_type": "display_data"
    }
   ],
   "source": [
    "import seaborn as sns\n",
    "import matplotlib.pyplot as plt\n",
    "\n",
    "sns.lineplot(x=range(len(ratelimit)), y=ratelimit, )\n",
    "plt.title('Ratelimit-Remaining over request call');"
   ]
  },
  {
   "cell_type": "code",
   "execution_count": 6,
   "metadata": {},
   "outputs": [],
   "source": [
    "#all_videos.to_csv('./twitch_videos_vtuber_broadcaster.csv', index=False)"
   ]
  },
  {
   "cell_type": "code",
   "execution_count": 7,
   "metadata": {},
   "outputs": [
    {
     "data": {
      "text/plain": [
       "user_name\n",
       "Octoloth       47617.0\n",
       "vanex_x        59636.0\n",
       "RavenCross     68580.0\n",
       "MiyunaTV       80612.0\n",
       "RiriMiaou     119311.0\n",
       "Name: view_count, dtype: float64"
      ]
     },
     "execution_count": 7,
     "metadata": {},
     "output_type": "execute_result"
    }
   ],
   "source": [
    "all_videos.groupby(\"user_name\").view_count.sum().sort_values().tail()"
   ]
  },
  {
   "attachments": {},
   "cell_type": "markdown",
   "metadata": {},
   "source": [
    "Just checking the memory size needed to store the dataFrame videos:"
   ]
  },
  {
   "cell_type": "code",
   "execution_count": 8,
   "metadata": {},
   "outputs": [
    {
     "name": "stdout",
     "output_type": "stream",
     "text": [
      "                    all_videos: 34.7 MiB\n",
      "                 oldAPIStreams:  3.5 MiB\n",
      "                 newAPIStreams:  2.7 MiB\n",
      "                     ratelimit: 17.8 KiB\n",
      "              user_ids_streams: 16.6 KiB\n",
      "                           _i3:  1.3 KiB\n",
      "                           _i8:  588.0 B\n",
      "                             _:  555.0 B\n",
      "                            _7:  555.0 B\n",
      "                           _i1:  437.0 B\n"
     ]
    }
   ],
   "source": [
    "import sys\n",
    "\n",
    "def sizeof_fmt(num, suffix='B'):\n",
    "    ''' by Fred Cirera,  https://stackoverflow.com/a/1094933/1870254, modified'''\n",
    "    for unit in ['','Ki','Mi','Gi','Ti','Pi','Ei','Zi']:\n",
    "        if abs(num) < 1024.0:\n",
    "            return \"%3.1f %s%s\" % (num, unit, suffix)\n",
    "        num /= 1024.0\n",
    "    return \"%.1f %s%s\" % (num, 'Yi', suffix)\n",
    "\n",
    "for name, size in sorted(((name, sys.getsizeof(value)) for name, value in locals().items()),\n",
    "                         key= lambda x: -x[1])[:10]:\n",
    "    print(\"{:>30}: {:>8}\".format(name, sizeof_fmt(size)))"
   ]
  },
  {
   "attachments": {},
   "cell_type": "markdown",
   "metadata": {},
   "source": [
    "The idea would be to run a python bot that retrieves the videos every day. And memory is a consideration. With only a few dozen MiB, we are far from any RAM problems.\n",
    "The python bot is available : [`../TwitchStreamBot/twitch_video_bot.py`](../TwitchStreamBot/twitch_video_bot.py)."
   ]
  },
  {
   "cell_type": "code",
   "execution_count": 9,
   "metadata": {},
   "outputs": [],
   "source": [
    "# https://api.twitch.tv/helix/users/follows?from_id=26610234&first=1 for getting follower count (see https://discuss.dev.twitch.tv/t/how-do-i-get-follower-count/29247)"
   ]
  }
 ],
 "metadata": {
  "kernelspec": {
   "display_name": "papy",
   "language": "python",
   "name": "python3"
  },
  "language_info": {
   "codemirror_mode": {
    "name": "ipython",
    "version": 3
   },
   "file_extension": ".py",
   "mimetype": "text/x-python",
   "name": "python",
   "nbconvert_exporter": "python",
   "pygments_lexer": "ipython3",
   "version": "3.10.6"
  },
  "orig_nbformat": 4,
  "vscode": {
   "interpreter": {
    "hash": "d24ac629bf112d802257883b8c110d3748261c81a2230e5825f87b9855adaaa8"
   }
  }
 },
 "nbformat": 4,
 "nbformat_minor": 2
}
