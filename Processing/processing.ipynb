{
 "cells": [
  {
   "cell_type": "markdown",
   "metadata": {},
   "source": [
    "# Processing Notebook\n",
    "\n",
    "The purpose of this notebook is to process and aggregate the *.csv* files provided by `twitch_stream_bot.py`.\n"
   ]
  },
  {
   "cell_type": "code",
   "execution_count": 1,
   "metadata": {
    "execution": {
     "iopub.execute_input": "2023-01-14T07:29:34.027476Z",
     "iopub.status.busy": "2023-01-14T07:29:34.026953Z",
     "iopub.status.idle": "2023-01-14T07:29:34.208368Z",
     "shell.execute_reply": "2023-01-14T07:29:34.207848Z"
    }
   },
   "outputs": [],
   "source": [
    "import pandas as pd\n",
    "import os"
   ]
  },
  {
   "attachments": {},
   "cell_type": "markdown",
   "metadata": {},
   "source": [
    "Twitch's API has changed (end of 2022) and now provides a list of tags and not just a list of tag IDs for each stream.\n",
    "\n",
    "As a result, the stream filtering process in `twitch_stream_bot.py` now checks if a stream has the Vtuber tag id or if it has the word `'Vtuber'` in its tag list. Because of this API enhancement, we are receiving many more new streams than before and because of this, the data collected before and after the change in the filtering process is not comparable.\n",
    "\n",
    "So I decided to split the data."
   ]
  },
  {
   "cell_type": "code",
   "execution_count": 2,
   "metadata": {
    "execution": {
     "iopub.execute_input": "2023-01-14T07:29:34.210758Z",
     "iopub.status.busy": "2023-01-14T07:29:34.210327Z",
     "iopub.status.idle": "2023-01-14T07:29:34.213024Z",
     "shell.execute_reply": "2023-01-14T07:29:34.212418Z"
    }
   },
   "outputs": [],
   "source": [
    "processing_new_twitch_API_streams = True"
   ]
  },
  {
   "cell_type": "markdown",
   "metadata": {},
   "source": [
    "All the *.csv* files are located in the `sync` folder."
   ]
  },
  {
   "cell_type": "code",
   "execution_count": 3,
   "metadata": {
    "execution": {
     "iopub.execute_input": "2023-01-14T07:29:34.214769Z",
     "iopub.status.busy": "2023-01-14T07:29:34.214505Z",
     "iopub.status.idle": "2023-01-14T07:29:34.409248Z",
     "shell.execute_reply": "2023-01-14T07:29:34.408572Z"
    }
   },
   "outputs": [
    {
     "name": "stdout",
     "output_type": "stream",
     "text": [
      "There are 58 duplicates\n",
      "Deleting duplicates...\n",
      "There are 0 duplicates\n"
     ]
    }
   ],
   "source": [
    "if processing_new_twitch_API_streams:\n",
    "    csv_path = '../Data/scattered/tagIds_tags/' # For new Twitch API\n",
    "else:\n",
    "    csv_path = '../Data/scattered/tagIds/' # For old Twitch API\n",
    "\n",
    "csv_dfs = [pd.read_csv(csv_path + file) for file in os.listdir(path=csv_path) if file.endswith('csv')]\n",
    "\n",
    "df = pd.concat(csv_dfs, ignore_index=True)\n",
    "\n",
    "print(f'There are {len(df) - len(df.id.drop_duplicates())} duplicates')\n",
    "\n",
    "print('Deleting duplicates...')\n",
    "df.sort_values('_custom_ended_at', inplace=True)\n",
    "df = df.groupby(['id']).apply(lambda df_ : df_.iloc[-1]).reset_index(drop=True)\n",
    "\n",
    "print(f'There are {len(df) - len(df.id.drop_duplicates())} duplicates')\n",
    "\n",
    "df.sort_values('started_at', inplace=True, ignore_index=True)\n"
   ]
  },
  {
   "cell_type": "markdown",
   "metadata": {},
   "source": [
    "Printing some infos about the data."
   ]
  },
  {
   "cell_type": "code",
   "execution_count": 4,
   "metadata": {
    "execution": {
     "iopub.execute_input": "2023-01-14T07:29:34.429210Z",
     "iopub.status.busy": "2023-01-14T07:29:34.428857Z",
     "iopub.status.idle": "2023-01-14T07:29:34.440528Z",
     "shell.execute_reply": "2023-01-14T07:29:34.440031Z"
    }
   },
   "outputs": [
    {
     "name": "stdout",
     "output_type": "stream",
     "text": [
      "4256 streams\n",
      "977 different broadcasters\n",
      "first started live : 2023-01-05T13:18:16Z\n",
      "last started live : 2023-01-16T03:00:48Z\n",
      "\n"
     ]
    }
   ],
   "source": [
    "print(f'''{len(df)} streams\n",
    "{len(df.groupby('user_id'))} different broadcasters\n",
    "first started live : {df.iloc[0]['started_at']}\n",
    "last started live : {df.iloc[-1]['started_at']}\n",
    "''')"
   ]
  },
  {
   "cell_type": "markdown",
   "metadata": {},
   "source": [
    "Saving the dataframe in the `../Data` folder for further use."
   ]
  },
  {
   "cell_type": "code",
   "execution_count": 5,
   "metadata": {
    "execution": {
     "iopub.execute_input": "2023-01-14T07:29:34.442595Z",
     "iopub.status.busy": "2023-01-14T07:29:34.442338Z",
     "iopub.status.idle": "2023-01-14T07:29:34.461822Z",
     "shell.execute_reply": "2023-01-14T07:29:34.461226Z"
    }
   },
   "outputs": [],
   "source": [
    "if processing_new_twitch_API_streams:\n",
    "    df.to_csv('../Data/aggregated/twitch_streams_vtuber_tagIds_tags.csv', index=False)\n",
    "else:\n",
    "    df.to_csv('../Data/aggregated/twitch_streams_vtuber_tagIds.csv', index=False)\n"
   ]
  }
 ],
 "metadata": {
  "kernelspec": {
   "display_name": "vtuber",
   "language": "python",
   "name": "python3"
  },
  "language_info": {
   "codemirror_mode": {
    "name": "ipython",
    "version": 3
   },
   "file_extension": ".py",
   "mimetype": "text/x-python",
   "name": "python",
   "nbconvert_exporter": "python",
   "pygments_lexer": "ipython3",
   "version": "3.10.8 (main, Nov 24 2022, 14:13:03) [GCC 11.2.0]"
  },
  "vscode": {
   "interpreter": {
    "hash": "8f2618a5e3146abdf5abc55d1ebd82c144e154d86aee8362b53dc0ec06a76a15"
   }
  }
 },
 "nbformat": 4,
 "nbformat_minor": 2
}
