{
 "cells": [
  {
   "cell_type": "markdown",
   "metadata": {},
   "source": [
    "# Processing Notebook\n",
    "\n",
    "The purpose of this notebook is to process and aggregate the *.csv* files provided by `twitch_stream_bot.py`.\n"
   ]
  },
  {
   "cell_type": "code",
   "execution_count": 1,
   "metadata": {},
   "outputs": [],
   "source": [
    "import pandas as pd\n",
    "import os"
   ]
  },
  {
   "attachments": {},
   "cell_type": "markdown",
   "metadata": {},
   "source": [
    "Twitch's API has changed (end of 2022) and now provides a list of tags and not just a list of tag IDs for each stream.\n",
    "\n",
    "As a result, the stream filtering process in `twitch_stream_bot.py` now checks if a stream has the Vtuber tag id or if it has the word `'Vtuber'` in its tag list. Because of this API enhancement, we are receiving many more new streams than before and because of this, the data collected before and after the change in the filtering process is not comparable.\n",
    "\n",
    "So I decided to split the data."
   ]
  },
  {
   "cell_type": "code",
   "execution_count": 2,
   "metadata": {},
   "outputs": [],
   "source": [
    "processing_new_twitch_API_streams = True"
   ]
  },
  {
   "cell_type": "markdown",
   "metadata": {},
   "source": [
    "All the *.csv* files are located in the `sync` folder."
   ]
  },
  {
   "cell_type": "code",
   "execution_count": 3,
   "metadata": {},
   "outputs": [
    {
     "name": "stdout",
     "output_type": "stream",
     "text": [
      "There are 37 duplicates\n",
      "Deleting duplicates...\n",
      "There are 0 duplicates\n"
     ]
    }
   ],
   "source": [
    "if processing_new_twitch_API_streams:\n",
    "    csv_path = './sync/tagIds_tags/' # For new Twitch API\n",
    "else:\n",
    "    csv_path = './sync/tagIds/' # For old Twitch API\n",
    "\n",
    "csv_dfs = [pd.read_csv(csv_path + file) for file in os.listdir(path=csv_path) if file.endswith('csv')]\n",
    "\n",
    "df = pd.concat(csv_dfs, ignore_index=True)\n",
    "\n",
    "print(f'There are {len(df) - len(df.id.drop_duplicates())} duplicates')\n",
    "\n",
    "print('Deleting duplicates...')\n",
    "df.sort_values('_custom_ended_at', inplace=True)\n",
    "df = df.groupby(['id']).apply(lambda df_ : df_.iloc[-1]).reset_index(drop=True)\n",
    "\n",
    "print(f'There are {len(df) - len(df.id.drop_duplicates())} duplicates')\n",
    "\n",
    "df.sort_values('started_at', inplace=True, ignore_index=True)\n"
   ]
  },
  {
   "cell_type": "markdown",
   "metadata": {},
   "source": [
    "Printing some infos about the data."
   ]
  },
  {
   "cell_type": "code",
   "execution_count": 4,
   "metadata": {},
   "outputs": [
    {
     "name": "stdout",
     "output_type": "stream",
     "text": [
      "2410 streams\n",
      "818 different broadcasters\n",
      "first started live : 2023-01-05T13:18:16Z\n",
      "last started live : 2023-01-11T20:25:05Z\n",
      "\n"
     ]
    }
   ],
   "source": [
    "print(f'''{len(df)} streams\n",
    "{len(df.groupby('user_id'))} different broadcasters\n",
    "first started live : {df.iloc[0]['started_at']}\n",
    "last started live : {df.iloc[-1]['started_at']}\n",
    "''')"
   ]
  },
  {
   "cell_type": "markdown",
   "metadata": {},
   "source": [
    "Saving the dataframe in the `../Data` folder for further use."
   ]
  },
  {
   "cell_type": "code",
   "execution_count": 5,
   "metadata": {},
   "outputs": [],
   "source": [
    "if processing_new_twitch_API_streams:\n",
    "    df.to_csv('../Data/twitch_streams_vtuber_tagIds_tags.csv', index=False)\n",
    "else:\n",
    "    df.to_csv('../Data/twitch_streams_vtuber_tagIds.csv', index=False)\n"
   ]
  }
 ],
 "metadata": {
  "kernelspec": {
   "display_name": "Python 3 (ipykernel)",
   "language": "python",
   "name": "python3"
  },
  "language_info": {
   "codemirror_mode": {
    "name": "ipython",
    "version": 3
   },
   "file_extension": ".py",
   "mimetype": "text/x-python",
   "name": "python",
   "nbconvert_exporter": "python",
   "pygments_lexer": "ipython3",
   "version": "3.10.6 (main, Oct 24 2022, 16:07:47) [GCC 11.2.0]"
  },
  "vscode": {
   "interpreter": {
    "hash": "d24ac629bf112d802257883b8c110d3748261c81a2230e5825f87b9855adaaa8"
   }
  }
 },
 "nbformat": 4,
 "nbformat_minor": 2
}
